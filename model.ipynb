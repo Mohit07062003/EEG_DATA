{
 "cells": [
  {
   "cell_type": "code",
   "execution_count": 13,
   "metadata": {},
   "outputs": [
    {
     "name": "stderr",
     "output_type": "stream",
     "text": [
      "C:\\Users\\LEGION\\AppData\\Local\\Temp\\ipykernel_3144\\108103324.py:53: FutureWarning: The behavior of DataFrame concatenation with empty or all-NA entries is deprecated. In a future version, this will no longer exclude empty or all-NA columns when determining the result dtypes. To retain the old behavior, exclude the relevant entries before the concat operation.\n",
      "  all_data = pd.concat([all_data, combined_df])\n"
     ]
    }
   ],
   "source": [
    "import pandas as pd\n",
    "\n",
    "subjects = ['sub1.csv','sub2.csv','sub3.csv','sub4.csv','sub5.csv','sub6.csv','sub7.csv','sub8.csv','sub9.csv','sub10.csv','sub11.csv','sub12.csv','sub13.csv']\n",
    "unfiltered_subjects = ['Aanand_19_01.csv','Aanand_19_02.csv','Abhijeet_6205876348.csv','Deepanshu_21_1.csv', 'Achal_19_01.csv', 'Adit_18_02.csv', 'Deepanshu_21_02.csv', 'Mantavya_20_01.csv', 'Mantavya_20_02.csv', 'Pritesh_22_01.csv', 'Pritesh_22_02.csv', 'Rishab_20_01.csv', 'Rishab_20_02.csv']\n",
    "                         #'  # <<== Let's use this to test...\n",
    "sfreq = 120\n",
    "\n",
    "\n",
    "#For subjects:::::::::::::\n",
    "\n",
    "#ch_names = ['Fp2', 'F4', 'F8', 'T8', 'Fp1', 'F3', 'F7', 'T7', 'Cz',\n",
    "#            'C4', 'P4', 'O2', 'Pz', 'C3', 'P3', 'O1', 'STIM', 'label']\n",
    "\n",
    "# Create an empty DataFrame to store all data\n",
    "#all_data = pd.DataFrame(columns=ch_names)\n",
    "\n",
    "# for file_name in subjects:\n",
    "#     df = pd.read_csv(file_name, index_col=0)  # Specify index column\n",
    "#     df['timestamps'] = df['timestamps'] - df['timestamps'][0]\n",
    "    \n",
    "#     lvl1_sub = df[(df['timestamps'] >= 80) & (df['timestamps'] < 120)].copy()\n",
    "#     lvl2_sub = df[(df['timestamps'] >= 220) & (df['timestamps'] < 260)].copy()\n",
    "#     lvl3_sub = df[(df['timestamps'] >= 340) & (df['timestamps'] < 380)].copy()\n",
    "\n",
    "#     lvl1_sub['label'] = 1\n",
    "#     lvl2_sub['label'] = 2\n",
    "#     lvl3_sub['label'] = 3\n",
    "    \n",
    "#     combined_df = pd.concat([lvl1_sub, lvl2_sub, lvl3_sub])\n",
    "#     all_data = pd.concat([all_data, combined_df])\n",
    "\n",
    "#For unfiltered_subjects\n",
    "\n",
    "\n",
    "ch_names = ['timestamps','Fp1','Fp2','C3','C4','P7','P8','O1','O2','F7','F8','F3','F4','T7','T8','P3','P4','stim','sfreq']\n",
    "\n",
    "# Create an empty DataFrame to store all data\n",
    "all_data = pd.DataFrame(columns=ch_names)\n",
    "\n",
    "for file_name in unfiltered_subjects:\n",
    "    df = pd.read_csv(file_name)  # Specify index column\n",
    "    df['timestamps'] = df['timestamps'] - df['timestamps'][0]\n",
    "    \n",
    "    lvl1_sub = df[(df['timestamps'] >= 80) & (df['timestamps'] < 120)].copy()\n",
    "    lvl2_sub = df[(df['timestamps'] >= 220) & (df['timestamps'] < 260)].copy()\n",
    "    lvl3_sub = df[(df['timestamps'] >= 340) & (df['timestamps'] < 380)].copy()\n",
    "\n",
    "    lvl1_sub['label'] = 1\n",
    "    lvl2_sub['label'] = 2\n",
    "    lvl3_sub['label'] = 3\n",
    "    \n",
    "    combined_df = pd.concat([lvl1_sub, lvl2_sub, lvl3_sub])\n",
    "    all_data = pd.concat([all_data, combined_df])\n",
    "\n",
    "# Now all_data DataFrame contains data from all subjects\n",
    "# You can further process or save this DataFrame as needed\n",
    "\n"
   ]
  },
  {
   "cell_type": "code",
   "execution_count": 14,
   "metadata": {},
   "outputs": [
    {
     "data": {
      "text/plain": [
       "(188684, 20)"
      ]
     },
     "execution_count": 14,
     "metadata": {},
     "output_type": "execute_result"
    }
   ],
   "source": [
    "all_data.shape"
   ]
  },
  {
   "cell_type": "code",
   "execution_count": 15,
   "metadata": {},
   "outputs": [],
   "source": [
    "drop1 = all_data.drop(['sfreq'], axis=1)\n",
    "df = drop1.drop(['stim'], axis=1)\n"
   ]
  },
  {
   "cell_type": "code",
   "execution_count": 16,
   "metadata": {},
   "outputs": [
    {
     "name": "stdout",
     "output_type": "stream",
     "text": [
      "Shape of X: (188684, 17)\n",
      "Shape of y: (188684,)\n"
     ]
    }
   ],
   "source": [
    "\n",
    "x = df.drop('label', axis=1)\n",
    "\n",
    "y = df['label']\n",
    "\n",
    "print(\"Shape of X:\", x.shape)\n",
    "print(\"Shape of y:\", y.shape)\n"
   ]
  },
  {
   "cell_type": "code",
   "execution_count": 18,
   "metadata": {},
   "outputs": [
    {
     "name": "stdout",
     "output_type": "stream",
     "text": [
      "Accuracy of Random Forest Classifier: 1.0\n"
     ]
    }
   ],
   "source": [
    "from sklearn.model_selection import train_test_split\n",
    "from sklearn.ensemble import RandomForestClassifier\n",
    "from sklearn.metrics import accuracy_score\n",
    "\n",
    "x_train, x_test, y_train, y_test = train_test_split(x, y, test_size=0.2, random_state=42)\n",
    "rf_classifier = RandomForestClassifier(random_state=42)\n",
    "rf_classifier.fit(x_train, y_train)\n",
    "y_pred = rf_classifier.predict(x_test)\n",
    "accuracy = accuracy_score(y_test, y_pred)"
   ]
  },
  {
   "cell_type": "code",
   "execution_count": null,
   "metadata": {},
   "outputs": [],
   "source": []
  },
  {
   "cell_type": "code",
   "execution_count": null,
   "metadata": {},
   "outputs": [],
   "source": []
  },
  {
   "cell_type": "code",
   "execution_count": null,
   "metadata": {},
   "outputs": [],
   "source": []
  },
  {
   "cell_type": "code",
   "execution_count": null,
   "metadata": {},
   "outputs": [],
   "source": []
  },
  {
   "cell_type": "code",
   "execution_count": null,
   "metadata": {},
   "outputs": [],
   "source": []
  },
  {
   "cell_type": "code",
   "execution_count": null,
   "metadata": {},
   "outputs": [],
   "source": []
  },
  {
   "cell_type": "code",
   "execution_count": null,
   "metadata": {},
   "outputs": [],
   "source": []
  },
  {
   "cell_type": "code",
   "execution_count": null,
   "metadata": {},
   "outputs": [],
   "source": []
  },
  {
   "cell_type": "code",
   "execution_count": null,
   "metadata": {},
   "outputs": [],
   "source": [
    "from sklearn.metrics import classification_report\n",
    "\n",
    "classification_rep = classification_report(y_test, y_pred)\n",
    "\n",
    "print(\"Classification Report for Random Forest:\")\n",
    "print(classification_rep)"
   ]
  },
  {
   "cell_type": "code",
   "execution_count": 11,
   "metadata": {},
   "outputs": [
    {
     "ename": "NameError",
     "evalue": "name 'classification_report' is not defined",
     "output_type": "error",
     "traceback": [
      "\u001b[1;31m---------------------------------------------------------------------------\u001b[0m",
      "\u001b[1;31mNameError\u001b[0m                                 Traceback (most recent call last)",
      "Cell \u001b[1;32mIn [11], line 7\u001b[0m\n\u001b[0;32m      5\u001b[0m y_pred_svm \u001b[38;5;241m=\u001b[39m svm_classifier\u001b[38;5;241m.\u001b[39mpredict(x_test)\n\u001b[0;32m      6\u001b[0m accuracy_svm \u001b[38;5;241m=\u001b[39m accuracy_score(y_test, y_pred_svm)\n\u001b[1;32m----> 7\u001b[0m classification_rep_svm \u001b[38;5;241m=\u001b[39m \u001b[43mclassification_report\u001b[49m(y_test, y_pred_svm)\n\u001b[0;32m      9\u001b[0m \u001b[38;5;28mprint\u001b[39m(\u001b[38;5;124m\"\u001b[39m\u001b[38;5;124mAccuracy of SVM Classifier:\u001b[39m\u001b[38;5;124m\"\u001b[39m, accuracy_svm)\n\u001b[0;32m     10\u001b[0m \u001b[38;5;28mprint\u001b[39m(\u001b[38;5;124m\"\u001b[39m\u001b[38;5;130;01m\\n\u001b[39;00m\u001b[38;5;124mClassification Report for SVM:\u001b[39m\u001b[38;5;124m\"\u001b[39m)\n",
      "\u001b[1;31mNameError\u001b[0m: name 'classification_report' is not defined"
     ]
    }
   ],
   "source": [
    "from sklearn.svm import SVC\n",
    "\n",
    "svm_classifier = SVC(random_state=42)\n",
    "svm_classifier.fit(x_train, y_train)\n",
    "y_pred_svm = svm_classifier.predict(x_test)\n",
    "accuracy_svm = accuracy_score(y_test, y_pred_svm)\n",
    "classification_rep_svm = classification_report(y_test, y_pred_svm)\n",
    "\n",
    "print(\"Accuracy of SVM Classifier:\", accuracy_svm)\n",
    "print(\"\\nClassification Report for SVM:\")\n",
    "print(classification_rep_svm)"
   ]
  },
  {
   "cell_type": "code",
   "execution_count": 12,
   "metadata": {},
   "outputs": [
    {
     "name": "stdout",
     "output_type": "stream",
     "text": [
      "Accuracy of SVM Classifier: 0.5520792848814613\n"
     ]
    }
   ],
   "source": [
    "print(\"Accuracy of SVM Classifier:\", accuracy_svm)"
   ]
  },
  {
   "cell_type": "code",
   "execution_count": null,
   "metadata": {},
   "outputs": [],
   "source": []
  }
 ],
 "metadata": {
  "kernelspec": {
   "display_name": "Python 3",
   "language": "python",
   "name": "python3"
  },
  "language_info": {
   "codemirror_mode": {
    "name": "ipython",
    "version": 3
   },
   "file_extension": ".py",
   "mimetype": "text/x-python",
   "name": "python",
   "nbconvert_exporter": "python",
   "pygments_lexer": "ipython3",
   "version": "3.9.0"
  }
 },
 "nbformat": 4,
 "nbformat_minor": 2
}
