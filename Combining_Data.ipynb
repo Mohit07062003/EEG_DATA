{
 "cells": [
  {
   "cell_type": "code",
   "execution_count": null,
   "metadata": {},
   "outputs": [],
   "source": [
    "import mne\n",
    "import pandas as pd\n",
    "import os\n",
    "import numpy as np\n",
    "import matplotlib.pyplot as plt\n",
    "\n",
    "\n",
    "path = []\n",
    "sfreq = 120\n",
    "#ch_names = ['Fp2', 'F4', 'F8', 'T8', 'Fp1', 'F3', 'F7', 'T7', 'Cz',\n",
    "#            'C4', 'P4', 'O2', 'Pz', 'C3', 'P3', 'O1','stim']\n",
    "\n",
    "df = pd.read_csv(path)\n",
    "df.head()"
   ]
  }
 ],
 "metadata": {
  "language_info": {
   "name": "python"
  }
 },
 "nbformat": 4,
 "nbformat_minor": 2
}
